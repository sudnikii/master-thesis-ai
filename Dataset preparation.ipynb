{
 "cells": [
  {
   "cell_type": "markdown",
   "id": "3136a63c",
   "metadata": {},
   "source": [
    "# Dataset Preparation\n",
    "\n",
    "The following:\n",
    "1. Import of necessary packages and loading the dataset\n",
    "2. Author and Title text cleaning\n",
    "3. Google API\n",
    "4. Gender Detection\n",
    "5. Open Library API\n",
    "6. Cleaning the ratings data\n",
    "7. Thresholds\n",
    "8. Cornac preparations\n",
    "\n",
    "For this project i'm using the book-crossing data set obtained from http://www2.informatik.uni-freiburg.de/~cziegler/BX/."
   ]
  },
  {
   "cell_type": "markdown",
   "id": "775bb104",
   "metadata": {},
   "source": [
    "# 1. Import of necessary packages and the dataset"
   ]
  },
  {
   "cell_type": "code",
   "execution_count": 1,
   "id": "27aad596",
   "metadata": {},
   "outputs": [],
   "source": [
    "import urllib.request\n",
    "from tqdm import tqdm\n",
    "from bs4 import BeautifulSoup\n",
    "import spacy\n",
    "import requests\n",
    "import json\n",
    "import pandas as pd\n",
    "import gender_guesser.detector as gender\n",
    "import re\n",
    "import numpy as np\n",
    "import pickle\n",
    "import plotly.express as px\n",
    "from plotly.subplots import make_subplots\n",
    "import plotly.graph_objects as go\n",
    "import plotly.io as pio\n",
    "pio.templates.default = \"plotly_white\""
   ]
  },
  {
   "cell_type": "code",
   "execution_count": 2,
   "id": "de8dbde2",
   "metadata": {},
   "outputs": [],
   "source": [
    "books = pd.read_csv('book-crossing/Books.csv', sep=';', names = ['isbn', 'title', 'author', 'year', 'publisher'],  header=0)\n",
    "ratings = pd.read_csv('book-crossing/Ratings.csv', sep=';', names = ['user_id', 'isbn', 'rating'],  header=0)"
   ]
  },
  {
   "cell_type": "markdown",
   "id": "972b60e3",
   "metadata": {},
   "source": [
    "# 2. Author and Title text cleaning"
   ]
  },
  {
   "cell_type": "code",
   "execution_count": 3,
   "id": "eab1c431",
   "metadata": {},
   "outputs": [],
   "source": [
    "books = books.astype({\"author\": str, \"title\": str, 'isbn': str, 'publisher': str}, errors='raise')"
   ]
  },
  {
   "cell_type": "code",
   "execution_count": null,
   "id": "68694c11",
   "metadata": {},
   "outputs": [],
   "source": [
    "def clean(text):\n",
    "    \n",
    "    #removal of html tags\n",
    "    text = re.sub(r'<.*?>',' ',text) \n",
    "    \n",
    "    #remove newline char\n",
    "    text = re.sub('\\n', '', text)\n",
    "    \n",
    "    #remove punctuation\n",
    "    text = text.replace('-', ' ')\n",
    "    text = text.replace(',', ' ')\n",
    "    text = text.replace(':', ' ')\n",
    "    text = text.replace('?', ' ')\n",
    "    text = text.replace('!', ' ')\n",
    "\n",
    "    #remove double and triple spaces\n",
    "    text = text.replace('  ', ' ')\n",
    "    text = text.replace('   ', ' ')\n",
    "\n",
    "    #to lower case\n",
    "    text = text.lower()\n",
    "    \n",
    "    #other\n",
    "    text = text.replace('©', ' ')\n",
    "\n",
    "    return text\n",
    "\n",
    "def clean_author(text):\n",
    "    \n",
    "    # remove phd's and masters\n",
    "    text = text.replace('m. ph. d.', ' ')\n",
    "    text = text.replace('ph. d.', ' ')\n",
    "    text = text.replace('m ph. d ', ' ')\n",
    "    text = text.replace('ph. d ', ' ')\n",
    "    text = text.replace('ph d.', ' ')\n",
    "    text = text.replace('phd ', ' ')\n",
    "    \n",
    "    #remove A.B mistakes\n",
    "    text = re.sub(r'(?<=\\S)\\.(?=\\w)', '. ', text)\n",
    "\n",
    "    #remove J Amando mistake\n",
    "    split = text.split()\n",
    "    if len(split[0]) == 1:\n",
    "        text = split[0] + '. ' + ''.join(split[1:])\n",
    "\n",
    "    #remove Michael. Kilian mistake\n",
    "    split = text.split()\n",
    "    if len(split[0]) > 2 and split[0][-1] == '.':\n",
    "        text = split[0].replace('.', ' ') + ''.join(split[1:])\n",
    "    \n",
    "    #remove double and triple spaces\n",
    "    text = text.replace('  ', ' ')\n",
    "    text = text.replace('   ', ' ')\n",
    "    \n",
    "    #fix not applicable mistake\n",
    "    if 'not applicable' in text:\n",
    "        text = None\n",
    "    \n",
    "    return text\n",
    "\n",
    "def clean_title(text):\n",
    "    text = text.replace('\\\\', ' ')\n",
    "    text = text.replace('/', ' ')\n",
    "    text = text.replace('\"', ' ')\n",
    "    text = text.replace('(', ' ')\n",
    "    text = text.replace(')', ' ')\n",
    "    text = text.replace('.', ' ')\n",
    "    text = text.replace('  ', ' ')\n",
    "    return text"
   ]
  },
  {
   "cell_type": "code",
   "execution_count": null,
   "id": "85b003e0",
   "metadata": {},
   "outputs": [],
   "source": [
    "books.title = books.title.apply(lambda x: clean(x))\n",
    "books.title = books.title.apply(lambda x: clean_title(x))\n",
    "books.author = books.author.apply(lambda x: clean(x))\n",
    "books.author = books.author.apply(lambda x: clean_author(x))"
   ]
  },
  {
   "cell_type": "code",
   "execution_count": null,
   "id": "d6c95896",
   "metadata": {},
   "outputs": [],
   "source": [
    "books = books.drop_duplicates(subset='isbn', ignore_index=True) # remove one isbn duplicate\n",
    "books = books.reset_index(drop = True)\n",
    "books.to_csv('books.csv', index=False)"
   ]
  },
  {
   "cell_type": "markdown",
   "id": "d3e592e3",
   "metadata": {},
   "source": [
    "# 2. Google API\n",
    "The code below is just to show how the Google API works. The actual code run for gaining the data is in 'code/google_api.py'"
   ]
  },
  {
   "cell_type": "code",
   "execution_count": null,
   "id": "382b63aa",
   "metadata": {},
   "outputs": [],
   "source": [
    "def google_api(isbn):\n",
    "\n",
    "    base_api_link = \"https://www.googleapis.com/books/v1/volumes?q=isbn:\"\n",
    "    with urllib.request.urlopen(base_api_link + isbn) as f:\n",
    "        text = f.read()\n",
    "\n",
    "    decoded_text = text.decode(\"utf-8\")\n",
    "    obj = json.loads(decoded_text)  # deserializes decoded_text to a Python object\n",
    "    \n",
    "    if \"items\" in obj.keys():\n",
    "        volume_info = obj[\"items\"][0][\"volumeInfo\"]\n",
    "\n",
    "        author = volume_info[\"authors\"][0] if \"authors\" in volume_info.keys() else None\n",
    "\n",
    "        return author\n",
    "    \n",
    "    return None"
   ]
  },
  {
   "cell_type": "code",
   "execution_count": null,
   "id": "e5d067ed",
   "metadata": {},
   "outputs": [],
   "source": [
    "google_api('0679425608') # example"
   ]
  },
  {
   "cell_type": "code",
   "execution_count": null,
   "id": "5235fb8e",
   "metadata": {},
   "outputs": [],
   "source": [
    "#check nan values\n",
    "\n",
    "print('Percentage of data')\n",
    "print('author:', books.author_google.notna().sum()/len(books))"
   ]
  },
  {
   "cell_type": "markdown",
   "id": "b1fa6654",
   "metadata": {},
   "source": [
    "## 2.1. Correcting author names according to google \n",
    "\n",
    "If first name of author is abbreviated, see if we can match first letter and last name.\n",
    "3482 author data was changed which is 1.28%."
   ]
  },
  {
   "cell_type": "code",
   "execution_count": null,
   "id": "2da60028",
   "metadata": {},
   "outputs": [],
   "source": [
    "for index_label, row_series in books.iterrows():\n",
    "    if pd.isna(row_series.author):\n",
    "        books.at[index_label, 'author_corrected'] = books.at[index_label, 'author_google'] if not(pd.isna(books.at[index_label, 'author_google'])) else None\n",
    "    else:\n",
    "        author = str(row_series.author)\n",
    "        author_google = str(row_series.author_google)\n",
    "        if re.match('\\w\\.', author.split()[0]): # starts with an abbreviation\n",
    "            if author[0] == author_google[0]: # same first letter\n",
    "                if author.split()[-1] == author_google.split()[-1]: # same last name\n",
    "                    if re.match('\\w\\.', author_google.split()[0]): # starts with an abbreviation\n",
    "                        pass\n",
    "                    else:\n",
    "                        books.at[index_label, 'author_corrected'] = books.at[index_label, 'author_google'] if not(pd.isna(books.at[index_label, 'author_google'])) else None"
   ]
  },
  {
   "cell_type": "code",
   "execution_count": null,
   "id": "32be6f01",
   "metadata": {},
   "outputs": [],
   "source": [
    "len(books[books['author_corrected'].notna()])/len(books)"
   ]
  },
  {
   "cell_type": "code",
   "execution_count": null,
   "id": "05946176",
   "metadata": {},
   "outputs": [],
   "source": [
    "# adds the original name if no new data comes from google\n",
    "for index_label, row_series in books.iterrows(): \n",
    "    if pd.isna(books.at[index_label, 'author_corrected']):\n",
    "         books.at[index_label, 'author_corrected'] = books.at[index_label, 'author']"
   ]
  },
  {
   "cell_type": "code",
   "execution_count": null,
   "id": "8e4ffc84",
   "metadata": {},
   "outputs": [],
   "source": [
    "# authors left with an abbreviation for first name\n",
    "len(books[books.author.str.contains('^\\w. ', regex=True, na=False)])/len(books) "
   ]
  },
  {
   "cell_type": "markdown",
   "id": "2c199b33",
   "metadata": {},
   "source": [
    "# 4. Gender Detection"
   ]
  },
  {
   "cell_type": "code",
   "execution_count": null,
   "id": "e5628d2a",
   "metadata": {},
   "outputs": [],
   "source": [
    "books = pd.read_csv('books.csv')"
   ]
  },
  {
   "cell_type": "markdown",
   "id": "480e331c",
   "metadata": {},
   "source": [
    "## 4.1. First name extraction"
   ]
  },
  {
   "cell_type": "code",
   "execution_count": null,
   "id": "47987294",
   "metadata": {},
   "outputs": [],
   "source": [
    "# get first word in author that is not an abbreviation\n",
    "for index_label, row_series in books.iterrows():\n",
    "    books.at[index_label, 'name'] = str(row_series.author_corrected).split()[0] if not re.match('\\w\\.', str(row_series.author_corrected).split()[0]) else None"
   ]
  },
  {
   "cell_type": "code",
   "execution_count": null,
   "id": "ca0d4477",
   "metadata": {},
   "outputs": [],
   "source": [
    "# check how many names exist\n",
    "sum(books.name.isna())/len(books)"
   ]
  },
  {
   "cell_type": "markdown",
   "id": "c68c9d83",
   "metadata": {},
   "source": [
    "## 4.2. Apply Gender Guesser\n",
    "\n",
    "Again, code below is just to show how the Gender Guesser works. The actual code run for gaining the data is in 'code/gender_guesser_api.py'"
   ]
  },
  {
   "cell_type": "code",
   "execution_count": null,
   "id": "0e72f3f3",
   "metadata": {},
   "outputs": [],
   "source": [
    "d = gender.Detector()\n",
    "name = 'Rosa'\n",
    "d.get_gender(name)"
   ]
  },
  {
   "cell_type": "code",
   "execution_count": null,
   "id": "92fe0972",
   "metadata": {},
   "outputs": [],
   "source": [
    "books.gender.value_counts()"
   ]
  },
  {
   "cell_type": "code",
   "execution_count": null,
   "id": "377c3c94",
   "metadata": {},
   "outputs": [],
   "source": [
    "books.gender.value_counts(normalize=True)"
   ]
  },
  {
   "cell_type": "markdown",
   "id": "62363a71",
   "metadata": {},
   "source": [
    "## 4.3. Unifying gender across book_codes"
   ]
  },
  {
   "cell_type": "code",
   "execution_count": null,
   "id": "43a612cc",
   "metadata": {},
   "outputs": [],
   "source": [
    "book_to_gender = {}\n",
    "\n",
    "for code in tqdm(books.book_code.unique()):\n",
    "    genders = books.gender[books.book_code ==code].value_counts().rename_axis('gender').reset_index(name='count')\n",
    "    gender = genders.gender[0]\n",
    "    if gender == 'unknown':\n",
    "        gender = genders.gender[1] if len(genders)>1 else 'unknown'     \n",
    "    book_to_gender[code] = gender\n",
    "\n",
    "with open('book_to_gender.json', 'w') as json_file:\n",
    "    json.dump(book_to_gender, json_file)"
   ]
  },
  {
   "cell_type": "code",
   "execution_count": null,
   "id": "bc828c40",
   "metadata": {},
   "outputs": [],
   "source": [
    "for index_label, row_series in book.iterrows():\n",
    "    books.at[index_label, 'gender']  = book_to_gender[row_series.book_code] "
   ]
  },
  {
   "cell_type": "markdown",
   "id": "8af47f3d",
   "metadata": {},
   "source": [
    "# 5. Open Library API\n",
    "\n",
    "To get information about book and author keys for item linking. Again, the code below is just for presentation the actual code is in 'code/ol_api.py'"
   ]
  },
  {
   "cell_type": "code",
   "execution_count": null,
   "id": "59a6e80e",
   "metadata": {},
   "outputs": [],
   "source": [
    "def ol_api(isbn):\n",
    "    \n",
    "    base_api_link = 'https://openlibrary.org/isbn/'\n",
    "    with urllib.request.urlopen(base_api_link + isbn + '.json') as f:\n",
    "        text = f.read()\n",
    "\n",
    "    decoded_text = text.decode(\"utf-8\")\n",
    "    obj = json.loads(decoded_text)  # deserializes decoded_text to a Python object\n",
    "    print(obj)\n",
    "    author_key = obj[\"authors\"][0]['key'].split(\"authors/\", 1)[1] if \"authors\" in obj.keys() else None\n",
    "    book_key = obj[\"works\"][0]['key'].split(\"works/\", 1)[1] if \"works\" in obj.keys() else None\n",
    "    \n",
    "    return author_key, book_key"
   ]
  },
  {
   "cell_type": "code",
   "execution_count": null,
   "id": "b407533a",
   "metadata": {},
   "outputs": [],
   "source": [
    "print(ol_api('0446524484'))"
   ]
  },
  {
   "cell_type": "code",
   "execution_count": null,
   "id": "6cddc8b3",
   "metadata": {},
   "outputs": [],
   "source": [
    "print('Percentage of data')\n",
    "print('author_code:', books.author_key_ol.notna().sum()/len(books))\n",
    "print('book_code:', books.book_key_ol.notna().sum()/len(books))"
   ]
  },
  {
   "cell_type": "code",
   "execution_count": null,
   "id": "a0f532fd",
   "metadata": {},
   "outputs": [],
   "source": [
    "len(books.book_key_ol.unique())"
   ]
  },
  {
   "cell_type": "markdown",
   "id": "e4294d28",
   "metadata": {},
   "source": [
    "## 5.1. Book matching using ol book key"
   ]
  },
  {
   "cell_type": "code",
   "execution_count": null,
   "id": "11fa4235",
   "metadata": {},
   "outputs": [],
   "source": [
    "unique_books = {}\n",
    "count = 0\n",
    "\n",
    "for index_label, row_series in books.iterrows():\n",
    "\n",
    "    item = books.at[index_label, 'book_key_ol']\n",
    "    \n",
    "    if pd.isna(item):\n",
    "        unique_books[item] = str(int(count))\n",
    "        books.at[index_label, 'book_code'] = unique_books[item]\n",
    "        count += 1\n",
    "        \n",
    "    else:\n",
    "        if item in unique_books.keys():\n",
    "            books.at[index_label, 'book_code'] = unique_books[item]\n",
    "        else:\n",
    "            unique_books[item] = str(int(count))\n",
    "            books.at[index_label, 'book_code'] = unique_books[item]\n",
    "            count += 1"
   ]
  },
  {
   "cell_type": "markdown",
   "id": "ca210fbf",
   "metadata": {},
   "source": [
    "# 6. Cleaning the ratings data"
   ]
  },
  {
   "cell_type": "code",
   "execution_count": null,
   "id": "79b9dcaa",
   "metadata": {},
   "outputs": [],
   "source": [
    "print(len(ratings))\n",
    "print(len(ratings.isbn.unique()))\n",
    "print(len(ratings.user_id.unique()))"
   ]
  },
  {
   "cell_type": "code",
   "execution_count": null,
   "id": "662d77c0",
   "metadata": {},
   "outputs": [],
   "source": [
    "ratings = ratings[ratings.isbn.isin(list(books.isbn))]"
   ]
  },
  {
   "cell_type": "code",
   "execution_count": null,
   "id": "32a34173",
   "metadata": {},
   "outputs": [],
   "source": [
    "1 - len(ratings[ratings.isbn.isin(list(books.isbn))])/len(ratings)"
   ]
  },
  {
   "cell_type": "code",
   "execution_count": null,
   "id": "a00c4440",
   "metadata": {},
   "outputs": [],
   "source": [
    "print(len(ratings))\n",
    "print(len(ratings.isbn.unique()))\n",
    "print(len(ratings.user_id.unique()))"
   ]
  },
  {
   "cell_type": "markdown",
   "id": "a2c31a03",
   "metadata": {},
   "source": [
    "# 7. Updating the ratings data"
   ]
  },
  {
   "cell_type": "markdown",
   "id": "e12f593f",
   "metadata": {},
   "source": [
    "## 7.1. Updating the book code"
   ]
  },
  {
   "cell_type": "code",
   "execution_count": null,
   "id": "56c9f610",
   "metadata": {},
   "outputs": [],
   "source": [
    "isbn_to_code = {}\n",
    "\n",
    "for index_label, row_series in books.iterrows():\n",
    "    \n",
    "    isbn = books.at[index_label, 'isbn']\n",
    "    code = books.at[index_label, 'book_code']\n",
    "    \n",
    "    isbn_to_code[isbn] = code\n",
    "    \n",
    "for index_label, row_series in ratings.iterrows():\n",
    "    ratings.at[index_label, 'book_code']  = isbn_to_code[row_series.isbn] if row_series.isbn in isbn_to_code.keys() else None"
   ]
  },
  {
   "cell_type": "markdown",
   "id": "819c52ea",
   "metadata": {},
   "source": [
    "### 7.1.1. Removing book_code duplicates"
   ]
  },
  {
   "cell_type": "code",
   "execution_count": null,
   "id": "83416645",
   "metadata": {},
   "outputs": [],
   "source": [
    "sum(ratings.duplicated(['user_id', 'book_code']))/len(ratings)"
   ]
  },
  {
   "cell_type": "code",
   "execution_count": null,
   "id": "d1df3eaf",
   "metadata": {},
   "outputs": [],
   "source": [
    "ratings = ratings.drop_duplicates(['user_id', 'book_code'])"
   ]
  },
  {
   "cell_type": "code",
   "execution_count": null,
   "id": "4f0c4d06",
   "metadata": {},
   "outputs": [],
   "source": [
    "sum(ratings.duplicated(['user_id', 'book_code']))/len(ratings)"
   ]
  },
  {
   "cell_type": "markdown",
   "id": "34611ca9",
   "metadata": {},
   "source": [
    "## 7.2. Updating author gender"
   ]
  },
  {
   "cell_type": "code",
   "execution_count": null,
   "id": "34457359",
   "metadata": {},
   "outputs": [],
   "source": [
    "f = open('code/book_to_gender.json')\n",
    "book_to_gender = json.load(f)"
   ]
  },
  {
   "cell_type": "code",
   "execution_count": null,
   "id": "93417636",
   "metadata": {},
   "outputs": [],
   "source": [
    "for index_label, row_series in ratings.iterrows():\n",
    "    ratings.at[index_label, 'gender']  = book_to_gender[row_series.book_code]"
   ]
  },
  {
   "cell_type": "markdown",
   "id": "92db771c",
   "metadata": {},
   "source": [
    "### 7.2.1. Redefining author gender\n",
    "\n",
    "Changing mostly female/male, andy to unknown."
   ]
  },
  {
   "cell_type": "code",
   "execution_count": null,
   "id": "d942c2a7",
   "metadata": {},
   "outputs": [],
   "source": [
    "gender_dict = {'mostly_female': 'unknown', 'mostly_male': 'unknown', 'andy': 'unknown'}\n",
    "ratings.gender = ratings.gender.replace(gender_dict)"
   ]
  },
  {
   "cell_type": "code",
   "execution_count": null,
   "id": "05466d3a",
   "metadata": {},
   "outputs": [],
   "source": [
    "ratings.gender.value_counts()"
   ]
  },
  {
   "cell_type": "code",
   "execution_count": null,
   "id": "2fc79b34",
   "metadata": {},
   "outputs": [],
   "source": [
    "ratings.gender.value_counts(normalize=True)"
   ]
  },
  {
   "cell_type": "markdown",
   "id": "7ac0e190",
   "metadata": {},
   "source": [
    "## 7.3. Dropping unknown genders"
   ]
  },
  {
   "cell_type": "code",
   "execution_count": null,
   "id": "b92a452a",
   "metadata": {},
   "outputs": [],
   "source": [
    "ratings = ratings[ratings.gender!='unknown']"
   ]
  },
  {
   "cell_type": "code",
   "execution_count": null,
   "id": "512c92bd",
   "metadata": {},
   "outputs": [],
   "source": [
    "print(len(ratings))\n",
    "print(len(ratings.isbn.unique()))\n",
    "print(len(ratings.user_id.unique()))\n",
    "print(len(ratings.book_code.unique()))\n",
    "print(ratings.gender.value_counts())\n",
    "print(ratings.gender.value_counts(normalize=True))"
   ]
  },
  {
   "cell_type": "code",
   "execution_count": null,
   "id": "4bc2d8a4",
   "metadata": {},
   "outputs": [],
   "source": [
    "ratings.to_csv('ratings-cleaned.csv', index=False)"
   ]
  },
  {
   "cell_type": "markdown",
   "id": "b264cafa",
   "metadata": {},
   "source": [
    "## 7.4 Dropping explicit ratings"
   ]
  },
  {
   "cell_type": "code",
   "execution_count": null,
   "id": "ec31f931",
   "metadata": {},
   "outputs": [],
   "source": [
    "ratings = ratings[ratings.rating == 0] #implicit"
   ]
  },
  {
   "cell_type": "markdown",
   "id": "c9f3fa69",
   "metadata": {},
   "source": [
    "# 8.0 Thresholds etc"
   ]
  },
  {
   "cell_type": "code",
   "execution_count": null,
   "id": "a66a5ee2",
   "metadata": {},
   "outputs": [],
   "source": [
    "item_threshold = 10 # remove users with less than item_threshold items\n",
    "user_threshold = 10 # remove items with less than user_threshold users\n",
    "top_threshold = 200 # remove users who have rated more than top_threshold items"
   ]
  },
  {
   "cell_type": "code",
   "execution_count": null,
   "id": "b9276ee2",
   "metadata": {},
   "outputs": [],
   "source": [
    "def user_distribution(df_events, user_col='user_id', prnt = False):\n",
    "    user_dist = df_events[user_col].value_counts() \n",
    "    num_users = len(user_dist)\n",
    "    if prnt:\n",
    "        print('Mean books per user: ' + str(np.round(user_dist.mean(),1))) \n",
    "        print('Min books per user: ' + str(np.round(user_dist.min(),1))) \n",
    "        print('Max books per user: ' + str(np.round(user_dist.max(),1)))\n",
    "    return user_dist, num_users\n",
    "\n",
    "def user_gender_distribution(df, user_col='user_id'):\n",
    "    \n",
    "    user_dict = {}\n",
    "    for user in df[user_col].unique():\n",
    "        user_df = df[df[user_col] == user]\n",
    "        num_female = len(user_df[user_df.gender==\"female\"])\n",
    "        num_male = len(user_df[user_df.gender==\"male\"])\n",
    "        user_dict[user] = [num_female, num_male]\n",
    "        \n",
    "    user_gender_dist = pd.DataFrame.from_dict(user_dict, orient=\"index\",columns=[\"num_female\", \"num_male\"])\n",
    "    user_gender_dist[\"num_total\"] = user_gender_dist[\"num_female\"] + user_gender_dist[\"num_male\"] \n",
    "    user_gender_dist[\"ratio_female\"] = user_gender_dist[\"num_female\"]/user_gender_dist[\"num_total\"] \n",
    "    user_gender_dist[\"male_female_difference\"] = (user_gender_dist[\"num_male\"] - user_gender_dist[\"num_female\"])/user_gender_dist[\"num_total\"] \n",
    "    num_users = len(user_gender_dist)\n",
    "    return user_gender_dist, num_users\n",
    "\n",
    "def item_distribution(df_events, user_col='user_id', prnt = False):\n",
    "    item_dist = df_events['book_code'].value_counts()\n",
    "    num_items = len(item_dist)\n",
    "    if prnt:\n",
    "        print('Mean users per book: ' + str(np.round(item_dist.mean(),1))) \n",
    "        print('Min users per book: ' + str(np.round(item_dist.min(),1))) \n",
    "        print('Max users per book: ' + str(np.round(item_dist.max(),1))) \n",
    "    return item_dist, num_items\n",
    "\n",
    "def isbn_distribution(df_events, user_col='user_id', prnt = False):\n",
    "    item_dist = df_events['isbn'].value_counts()\n",
    "    num_items = len(item_dist)\n",
    "    if prnt:\n",
    "        print('Mean users per book: ' + str(np.round(item_dist.mean(),1))) \n",
    "        print('Min users per book: ' + str(np.round(item_dist.min(),1))) \n",
    "        print('Max users per book: ' + str(np.round(item_dist.max(),1))) "
   ]
  },
  {
   "cell_type": "code",
   "execution_count": null,
   "id": "e6c6db8d",
   "metadata": {},
   "outputs": [],
   "source": [
    "print('\\nBefore changes.')\n",
    "user_dist, num_users = user_distribution(ratings, prnt = True) # create dataset for all users \n",
    "item_dist, num_items = item_distribution(ratings, prnt = True) # create dataset for all items"
   ]
  },
  {
   "cell_type": "code",
   "execution_count": null,
   "id": "8bc0d08e",
   "metadata": {},
   "outputs": [],
   "source": [
    "print('\\nAfter removing top_threshold.')\n",
    "user_dist = user_dist[user_dist < top_threshold] # remove all users with less than top_threshold items\n",
    "ratings = ratings[ratings.user_id.isin(user_dist.index)].reset_index().drop(\"index\", axis=1) # remove these users from the ratings set\n",
    "user_dist, num_users = user_distribution(ratings,  prnt=True) # update dataset for all users \n",
    "item_dist, num_items = item_distribution(ratings,  prnt=True) # update dataset for all items "
   ]
  },
  {
   "cell_type": "code",
   "execution_count": null,
   "id": "0529a6e6",
   "metadata": {},
   "outputs": [],
   "source": [
    "# remove items and users iteratively until there are only users with at least item_threshold items and items with at least user_threshold users.\n",
    "while item_dist.iloc[-1] < user_threshold  or user_dist.iloc[-1] < item_threshold:\n",
    "    item_dist = item_dist[item_dist >= user_threshold]\n",
    "    user_dist = user_dist[user_dist >= item_threshold]\n",
    "    ratings = ratings[ratings.user_id.isin(user_dist.index)].reset_index().drop(\"index\", axis=1)\n",
    "    ratings = ratings[ratings['book_code'].isin(item_dist.index)].reset_index().drop(\"index\", axis=1)\n",
    "    user_dist, num_users = user_distribution(ratings) # update dataset for all users \n",
    "    item_dist, num_items = item_distribution(ratings) # update dataset for all items\n",
    "    \n",
    "print('\\nAfter removing item and user thresholds.')\n",
    "user_dist, num_users = user_distribution(ratings, prnt=True) # final update dataset for all users \n",
    "item_dist, num_items = item_distribution(ratings, prnt=True) # final update dataset for all items"
   ]
  },
  {
   "cell_type": "code",
   "execution_count": null,
   "id": "dfca2f7a",
   "metadata": {},
   "outputs": [],
   "source": [
    "isbn_distribution(ratings, prnt = True) # to check how much book linking has helped"
   ]
  },
  {
   "cell_type": "code",
   "execution_count": null,
   "id": "2ac22c1b",
   "metadata": {},
   "outputs": [],
   "source": [
    "print(len(ratings))\n",
    "print(len(ratings.isbn.unique()))\n",
    "print(len(ratings.user_id.unique()))\n",
    "print(len(ratings.book_code.unique()))\n",
    "print(ratings.gender.value_counts())\n",
    "print(ratings.gender.value_counts(normalize=True))"
   ]
  },
  {
   "cell_type": "code",
   "execution_count": null,
   "id": "532ae01c",
   "metadata": {},
   "outputs": [],
   "source": [
    "ratings.to_csv('ratings.csv', index=False)"
   ]
  },
  {
   "cell_type": "markdown",
   "id": "30adfa8c",
   "metadata": {},
   "source": [
    "# 10. Prepare for the recommdation system"
   ]
  },
  {
   "cell_type": "code",
   "execution_count": null,
   "id": "bb35c8e9",
   "metadata": {},
   "outputs": [],
   "source": [
    "protected = ratings.book_code[ratings.gender == 'female']"
   ]
  },
  {
   "cell_type": "code",
   "execution_count": null,
   "id": "20032dd2",
   "metadata": {},
   "outputs": [],
   "source": [
    "with open(\"protected\", \"wb\") as fp:   #Pickling\n",
    "    pickle.dump(protected, fp)\n",
    "    \n",
    "#with open(\"protected\", \"rb\") as fp:   # Unpickling\n",
    "#    protected = pickle.load(fp)"
   ]
  },
  {
   "cell_type": "code",
   "execution_count": null,
   "id": "3e227d4f",
   "metadata": {},
   "outputs": [],
   "source": [
    "ratings = ratings[['user_id', 'book_code', 'rating']]\n",
    "ratings.rating = [1]* len(ratings)\n",
    "ratings.to_csv('data.csv', index=False)"
   ]
  },
  {
   "cell_type": "markdown",
   "id": "8304dafd",
   "metadata": {},
   "source": [
    "# 11. Gender Validation"
   ]
  },
  {
   "cell_type": "code",
   "execution_count": null,
   "id": "d3c5d273",
   "metadata": {},
   "outputs": [],
   "source": [
    "x = books.sample(100)"
   ]
  },
  {
   "cell_type": "code",
   "execution_count": null,
   "id": "59b7f47f",
   "metadata": {},
   "outputs": [],
   "source": [
    "count_correct = 0\n",
    "count_incorrect = 0\n",
    "count_not_found = 0"
   ]
  },
  {
   "cell_type": "code",
   "execution_count": null,
   "id": "df664d4e",
   "metadata": {},
   "outputs": [],
   "source": [
    "count_not_found +=1"
   ]
  },
  {
   "cell_type": "code",
   "execution_count": null,
   "id": "a7442071",
   "metadata": {},
   "outputs": [],
   "source": [
    "count_incorrect +=1"
   ]
  },
  {
   "cell_type": "code",
   "execution_count": null,
   "id": "b41af210",
   "metadata": {},
   "outputs": [],
   "source": [
    "count_correct +=1"
   ]
  },
  {
   "cell_type": "markdown",
   "id": "2903e974",
   "metadata": {},
   "source": [
    "# 12. Check how many books are in different languages"
   ]
  },
  {
   "cell_type": "code",
   "execution_count": null,
   "id": "8da03fe5",
   "metadata": {},
   "outputs": [],
   "source": [
    "books.language.value_counts(normalize=True).head()\n",
    "bku = list(books.book_code.unique())\n",
    "count = []\n",
    "for b in bku:\n",
    "    langs = books[books.book_code==b].language.value_counts().rename_axis('lang').reset_index(name='counts')\n",
    "    count.append(len(langs.lang))\n",
    "multi = 0\n",
    "for c in count:\n",
    "    if c>1:\n",
    "        multi+=1\n",
    "multi/len(bku)"
   ]
  }
 ],
 "metadata": {
  "kernelspec": {
   "display_name": "Python 3",
   "language": "python",
   "name": "python3"
  },
  "language_info": {
   "codemirror_mode": {
    "name": "ipython",
    "version": 3
   },
   "file_extension": ".py",
   "mimetype": "text/x-python",
   "name": "python",
   "nbconvert_exporter": "python",
   "pygments_lexer": "ipython3",
   "version": "3.7.7"
  }
 },
 "nbformat": 4,
 "nbformat_minor": 5
}
